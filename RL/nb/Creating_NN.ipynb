{
 "cells": [
  {
   "cell_type": "code",
   "execution_count": 24,
   "metadata": {},
   "outputs": [],
   "source": [
    "import numpy as np\n",
    "import matplotlib.pyplot as plt\n",
    "import torch\n",
    "import torchvision\n",
    "import gym\n",
    "import collections\n",
    "import random"
   ]
  },
  {
   "cell_type": "markdown",
   "metadata": {},
   "source": [
    "210 x 160 x 3=> 210 x 160 x 1 Grayscale  \n",
    "210 x 160 x 1 => 110 x 84 Downsample  \n",
    "110 x 84 => Crop to square game region  "
   ]
  },
  {
   "cell_type": "code",
   "execution_count": 40,
   "metadata": {},
   "outputs": [
    {
     "data": {
      "text/plain": [
       "array([ 0.02353762,  0.03262802, -0.03254586, -0.02899439])"
      ]
     },
     "execution_count": 40,
     "metadata": {},
     "output_type": "execute_result"
    }
   ],
   "source": [
    "env=gym.make('CartPole-v0')\n",
    "env.reset()"
   ]
  },
  {
   "cell_type": "code",
   "execution_count": 41,
   "metadata": {},
   "outputs": [],
   "source": [
    "img = env.render(mode='rgb_array') "
   ]
  },
  {
   "cell_type": "code",
   "execution_count": 56,
   "metadata": {},
   "outputs": [],
   "source": [
    "composed = torchvision.transforms.Compose([ torchvision.transforms.ToPILImage(),\n",
    "                                            torchvision.transforms.Grayscale(1),\n",
    "                                            torchvision.transforms.Resize((110,84)),\n",
    "                                            torchvision.transforms.CenterCrop((84,84)),\n",
    "                                            torchvision.transforms.ToTensor()])"
   ]
  },
  {
   "cell_type": "code",
   "execution_count": 57,
   "metadata": {},
   "outputs": [],
   "source": [
    "res_img=composed(img)"
   ]
  },
  {
   "cell_type": "markdown",
   "metadata": {},
   "source": [
    "Input 84 x 84 x 4 => 16 8 x 8 filters with stride 4  \n",
    "16 8 x 8 filters with stride 4 => RELU  \n",
    "RELU => 32 4 x 4 filters stride 2  \n",
    "32 4 x 4 filters stride 2 => RELU  \n",
    "Flatten => Fully Connected 256 hidden layer  "
   ]
  },
  {
   "cell_type": "code",
   "execution_count": 118,
   "metadata": {},
   "outputs": [],
   "source": [
    "class Flatten(torch.nn.Module):\n",
    "    def __init__(self):\n",
    "        super(Flatten, self).__init__()\n",
    "\n",
    "    def forward(self, x):\n",
    "        print(x.size())\n",
    "        x = x.view(-1)\n",
    "        print(x.size())\n",
    "        return x"
   ]
  },
  {
   "cell_type": "code",
   "execution_count": 119,
   "metadata": {},
   "outputs": [],
   "source": [
    "model= torch.nn.Sequential( \n",
    "    torch.nn.Conv2d(1, 16, (8,8), stride=4), \n",
    "    torch.nn.ReLU(),\n",
    "    torch.nn.Conv2d(16, 32, (4,4), stride=2), \n",
    "    torch.nn.ReLU(),\n",
    "    Flatten(),\n",
    "    torch.nn.Linear(10368, 2)\n",
    ")"
   ]
  },
  {
   "cell_type": "code",
   "execution_count": 120,
   "metadata": {},
   "outputs": [],
   "source": [
    "batch=torch.stack([res_img,res_img,res_img,res_img])"
   ]
  },
  {
   "cell_type": "code",
   "execution_count": 121,
   "metadata": {},
   "outputs": [
    {
     "name": "stdout",
     "output_type": "stream",
     "text": [
      "torch.Size([4, 32, 9, 9])\n",
      "torch.Size([10368])\n"
     ]
    },
    {
     "data": {
      "text/plain": [
       "tensor([0.0028, 0.0508], grad_fn=<AddBackward0>)"
      ]
     },
     "execution_count": 121,
     "metadata": {},
     "output_type": "execute_result"
    }
   ],
   "source": [
    "model(batch) # Xt is the current screen, st xt, a1, x_t+1,a2"
   ]
  },
  {
   "cell_type": "code",
   "execution_count": null,
   "metadata": {},
   "outputs": [],
   "source": []
  }
 ],
 "metadata": {
  "kernelspec": {
   "display_name": "Python 3",
   "language": "python",
   "name": "python3"
  },
  "language_info": {
   "codemirror_mode": {
    "name": "ipython",
    "version": 3
   },
   "file_extension": ".py",
   "mimetype": "text/x-python",
   "name": "python",
   "nbconvert_exporter": "python",
   "pygments_lexer": "ipython3",
   "version": "3.7.0"
  }
 },
 "nbformat": 4,
 "nbformat_minor": 2
}
