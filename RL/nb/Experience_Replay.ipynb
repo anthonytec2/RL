{
 "cells": [
  {
   "cell_type": "code",
   "execution_count": 14,
   "metadata": {},
   "outputs": [],
   "source": [
    "import numpy as np\n",
    "import matplotlib.pyplot as plt\n",
    "import torch\n",
    "import gym\n",
    "import collections\n",
    "import random"
   ]
  },
  {
   "cell_type": "code",
   "execution_count": 50,
   "metadata": {},
   "outputs": [],
   "source": [
    "mem = collections.namedtuple('Mem', ['state', 'action','reward', 'future_state'])\n",
    "class experience_replay:\n",
    "    def __init__(self, N):\n",
    "        self.i=0\n",
    "        self.replay=[]\n",
    "        self.mem_len=N\n",
    "    \n",
    "    def add_mem(self, state,action,reward,future_state):\n",
    "        if len(self.replay)<self.mem_len:\n",
    "            self.replay.append(mem(state,action,reward,future_state))\n",
    "            self.i=(self.i+1)%self.mem_len\n",
    "            return\n",
    "        else:\n",
    "            self.replay[self.i]=mem(state,action,reward,future_state)\n",
    "            self.i=(self.i+1)%self.mem_len\n",
    "    \n",
    "    def sample_batch(self, batch_size):\n",
    "        return random.sample(self.replay, batch_size)\n",
    "    "
   ]
  },
  {
   "cell_type": "code",
   "execution_count": 53,
   "metadata": {},
   "outputs": [
    {
     "name": "stdout",
     "output_type": "stream",
     "text": [
      "0\n",
      "1\n"
     ]
    }
   ],
   "source": [
    "er=experience_replay(5)\n",
    "er.add_mem(1,2,3,3)\n",
    "er.add_mem(2,2,3,3)\n",
    "er.add_mem(3,2,3,3)\n",
    "er.add_mem(4,2,3,3)\n",
    "er.add_mem(5,2,3,3)\n",
    "er.add_mem(100,2,3,3)\n",
    "er.add_mem(102,2,3,3)"
   ]
  },
  {
   "cell_type": "code",
   "execution_count": 54,
   "metadata": {},
   "outputs": [
    {
     "data": {
      "text/plain": [
       "[Mem(state=100, action=2, reward=3, future_state=3),\n",
       " Mem(state=102, action=2, reward=3, future_state=3),\n",
       " Mem(state=3, action=2, reward=3, future_state=3),\n",
       " Mem(state=4, action=2, reward=3, future_state=3),\n",
       " Mem(state=5, action=2, reward=3, future_state=3)]"
      ]
     },
     "execution_count": 54,
     "metadata": {},
     "output_type": "execute_result"
    }
   ],
   "source": [
    "er.replay"
   ]
  },
  {
   "cell_type": "code",
   "execution_count": null,
   "metadata": {},
   "outputs": [],
   "source": []
  }
 ],
 "metadata": {
  "kernelspec": {
   "display_name": "Python 3",
   "language": "python",
   "name": "python3"
  },
  "language_info": {
   "codemirror_mode": {
    "name": "ipython",
    "version": 3
   },
   "file_extension": ".py",
   "mimetype": "text/x-python",
   "name": "python",
   "nbconvert_exporter": "python",
   "pygments_lexer": "ipython3",
   "version": "3.7.0"
  }
 },
 "nbformat": 4,
 "nbformat_minor": 2
}
