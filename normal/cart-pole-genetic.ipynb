{
 "cells": [
  {
   "cell_type": "markdown",
   "metadata": {},
   "source": [
    "Developing a Genetic Algorithm"
   ]
  },
  {
   "cell_type": "code",
   "execution_count": 1,
   "metadata": {},
   "outputs": [],
   "source": [
    "import numpy as np"
   ]
  },
  {
   "cell_type": "markdown",
   "metadata": {},
   "source": [
    "Binary Encoding Sequence for Genetic Algorithm. Limitations are the weights need to be between -1 and 1. Also only a 64 bit representation of the given decimal is assumed. These functions will later be used to encode different weights for a neural network. "
   ]
  },
  {
   "cell_type": "markdown",
   "metadata": {},
   "source": [
    "Encoding Spec [Sign(1 bit), int_part(4 bits)[Org in Hex], frac_part(64 bits)[Org in Hex], exp_sign(1 bit), exp_part_sign(8 bits)[Decimal]]"
   ]
  },
  {
   "cell_type": "code",
   "execution_count": 139,
   "metadata": {},
   "outputs": [],
   "source": [
    "def dec_to_bin(num):\n",
    "    '''\n",
    "    method to convert a decimal to a binary number\n",
    "    num: float base 10 number to convert to binary\n",
    "    '''\n",
    "    hex_num=num.hex()\n",
    "    sign=1 if hex_num.split('0x')[0] else 0\n",
    "    sign_bin=str(sign)\n",
    "    int_part=hex_num.split('0x')[1].split('.')[0]\n",
    "    int_part_bin=np.binary_repr(int(int_part,16), width=4)\n",
    "    frac_part=hex_num.split('.')[1].split('p')[0]\n",
    "    frac_part_bin=np.binary_repr(int(frac_part,16), width=64)\n",
    "    exp_part=hex_num.split('p')[1]\n",
    "    exp_part_sign_bin=str(0 if np.sign(int(exp_part))==1 else 1)\n",
    "    exp_part=abs(int(exp_part))\n",
    "    exp_part_bin=np.binary_repr(exp_part, width=8)\n",
    "    binary_res=sign_bin+int_part_bin+frac_part_bin+exp_part_sign_bin+exp_part_bin\n",
    "    return binary_res"
   ]
  },
  {
   "cell_type": "code",
   "execution_count": 200,
   "metadata": {},
   "outputs": [],
   "source": [
    "def bin_to_dec(bin_str):\n",
    "    '''\n",
    "    method to convert a binary string into a decimal number\n",
    "    this assumes a given encodign spec in dec 2 bin\n",
    "    bin_str: str binary string to conver\n",
    "    '''\n",
    "    \n",
    "    sign_bint=bin_str[0]\n",
    "    sign_bint='-' if bin_str[0]=='1' else ''\n",
    "    int_part_bint=bin_str[1:5]\n",
    "    frac_part_bint=bin_str[5:69]\n",
    "    exp_part_sign_bint=bin_str[69]\n",
    "    exp_part_sign_bint='-' if bin_str[69]=='1' else '+'\n",
    "    exp_part_bint=bin_str[70:]\n",
    "    hex_val = sign_bint+'0x'+hex(int(int_part_bint,2))[2:]+'.'+(13-len(hex(int(frac_part_bint,2))[2:]))*'0'+hex(int(frac_part_bint,2))[2:]+'p'+exp_part_sign_bint+str(int(exp_part_bint,2))\n",
    "    return float.fromhex(hex_val)"
   ]
  },
  {
   "cell_type": "code",
   "execution_count": 207,
   "metadata": {},
   "outputs": [],
   "source": [
    "def gene_encode(**kwargs):\n",
    "    genes={}\n",
    "    for arg in kwargs:\n",
    "        genes[arg]=dec_to_bin(kwargs[arg])\n",
    "    return genes"
   ]
  },
  {
   "cell_type": "code",
   "execution_count": 215,
   "metadata": {},
   "outputs": [],
   "source": [
    "res=gene_encode(w1=1.3331, w2=1.33442, b1=3444.42, b2=123.3444)"
   ]
  },
  {
   "cell_type": "code",
   "execution_count": 216,
   "metadata": {},
   "outputs": [
    {
     "data": {
      "text/plain": [
       "{'w1': '000010000000000000101010101000110000010101010011001001100001011111000100000000',\n",
       " 'w2': '000010000000000000101010110011100100011001001001100100000110110011001100000000',\n",
       " 'b1': '000010000000000001010111010001101011100001010001111010111000010100100000001011',\n",
       " 'b2': '000010000000000001110110101100000101010100110010011000010111110000011000000110'}"
      ]
     },
     "execution_count": 216,
     "metadata": {},
     "output_type": "execute_result"
    }
   ],
   "source": [
    "res"
   ]
  },
  {
   "cell_type": "markdown",
   "metadata": {},
   "source": [
    "Check to make sure function is proving the correct output for the given input"
   ]
  },
  {
   "cell_type": "code",
   "execution_count": 206,
   "metadata": {},
   "outputs": [],
   "source": [
    "import random\n",
    "for _ in range(1000000):\n",
    "    num=random.random()\n",
    "    if not bin_to_dec(dec_to_bin(num))==num:\n",
    "        print(num)"
   ]
  }
 ],
 "metadata": {
  "kernelspec": {
   "display_name": "Python 3",
   "language": "python",
   "name": "python3"
  },
  "language_info": {
   "codemirror_mode": {
    "name": "ipython",
    "version": 3
   },
   "file_extension": ".py",
   "mimetype": "text/x-python",
   "name": "python",
   "nbconvert_exporter": "python",
   "pygments_lexer": "ipython3",
   "version": "3.6.5"
  }
 },
 "nbformat": 4,
 "nbformat_minor": 2
}
